{
 "cells": [
  {
   "cell_type": "code",
   "execution_count": 1,
   "metadata": {},
   "outputs": [],
   "source": [
    "import os\n",
    "import csv"
   ]
  },
  {
   "cell_type": "code",
   "execution_count": 2,
   "metadata": {
    "scrolled": true
   },
   "outputs": [
    {
     "name": "stdout",
     "output_type": "stream",
     "text": [
      "Resources\\budget_data.csv\n"
     ]
    }
   ],
   "source": [
    "\n",
    "csvpath = os.path.join(\"Resources\",\"budget_data.csv\")\n",
    "print(csvpath)"
   ]
  },
  {
   "cell_type": "code",
   "execution_count": 3,
   "metadata": {
    "scrolled": true
   },
   "outputs": [
    {
     "name": "stdout",
     "output_type": "stream",
     "text": [
      "86\n",
      "38382578\n",
      "446309.0465116279\n"
     ]
    }
   ],
   "source": [
    "count = 0\n",
    "total = 0\n",
    "average= 0\n",
    "max_num = 0\n",
    "min_num = 0\n",
    "with open(csvpath, newline=\"\") as csvfile:\n",
    "    csvreader = csv.reader(csvfile, delimiter=\",\")\n",
    "    next(csvreader,None)\n",
    "    for row in csvreader:\n",
    "        count += 1\n",
    "        total += int(row[1])\n",
    "        average = total/count\n",
    "        \n",
    "         \n",
    "    print(count) #Prints The total number of months included in the dataset\n",
    "    print(total)   #Prints The net total amount of \"Profit/Losses\" over the entire period\n",
    "    print(average) #Prints The average of the changes in \"Profit/Losses\" over the entire period\n"
   ]
  },
  {
   "cell_type": "code",
   "execution_count": 4,
   "metadata": {},
   "outputs": [
    {
     "name": "stdout",
     "output_type": "stream",
     "text": [
      "Greatest Increase in Profits:  ['Sep-2013', '-1196225']\n",
      "Greatest Decrease in Profits:  ['Feb-2012', '1170593']\n"
     ]
    }
   ],
   "source": [
    "with open(csvpath, newline=\"\") as csvfile:\n",
    "    csvreader = csv.reader(csvfile, delimiter=\",\")\n",
    "    next(csvreader,None)\n",
    "    d_col = list(csvreader)\n",
    "\n",
    "    min_row = min(d_col, key=lambda row: float(row[1]))\n",
    "    max_row = max(d_col, key=lambda row: float(row[1]))\n",
    "print(\"Greatest Increase in Profits: \", min_row)\n",
    "print(\"Greatest Decrease in Profits: \", max_row)\n",
    "#d_col"
   ]
  },
  {
   "cell_type": "code",
   "execution_count": null,
   "metadata": {},
   "outputs": [],
   "source": []
  }
 ],
 "metadata": {
  "kernelspec": {
   "display_name": "Python 3",
   "language": "python",
   "name": "python3"
  },
  "language_info": {
   "codemirror_mode": {
    "name": "ipython",
    "version": 3
   },
   "file_extension": ".py",
   "mimetype": "text/x-python",
   "name": "python",
   "nbconvert_exporter": "python",
   "pygments_lexer": "ipython3",
   "version": "3.7.4"
  }
 },
 "nbformat": 4,
 "nbformat_minor": 2
}
